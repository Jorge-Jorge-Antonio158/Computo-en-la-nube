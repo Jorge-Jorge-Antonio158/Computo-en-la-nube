{
 "cells": [
  {
   "cell_type": "markdown",
   "metadata": {},
   "source": [
    "##  Entrada y salida\n"
   ]
  },
  {
   "cell_type": "code",
   "execution_count": 1,
   "metadata": {},
   "outputs": [
    {
     "name": "stdout",
     "output_type": "stream",
     "text": [
      "\n",
      "Tareas guardadas\n",
      "funciona xd\n",
      "hola\n",
      "hacer ejercicio\n",
      "hacer proyecto\n",
      "\n"
     ]
    }
   ],
   "source": [
    "while True:\n",
    "    nueva_tarea = input(\"Introduce una nueva tarea (o un número para salir):\")\n",
    "    \n",
    "    if nueva_tarea.isdigit(): \n",
    "        break  \n",
    "    \n",
    "    with open(\"tareas.txt\", \"a\") as archivo:\n",
    "        archivo.write(nueva_tarea + \"\\n\")\n",
    "\n",
    "print(\"\\nTareas guardadas\")\n",
    "with open(\"tareas.txt\", \"r\") as archivo:\n",
    "    print(archivo.read())\n"
   ]
  }
 ],
 "metadata": {
  "kernelspec": {
   "display_name": "Python 3",
   "language": "python",
   "name": "python3"
  },
  "language_info": {
   "codemirror_mode": {
    "name": "ipython",
    "version": 3
   },
   "file_extension": ".py",
   "mimetype": "text/x-python",
   "name": "python",
   "nbconvert_exporter": "python",
   "pygments_lexer": "ipython3",
   "version": "3.13.0"
  }
 },
 "nbformat": 4,
 "nbformat_minor": 2
}
