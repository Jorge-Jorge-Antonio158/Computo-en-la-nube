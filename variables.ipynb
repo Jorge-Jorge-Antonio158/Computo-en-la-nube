{
 "cells": [
  {
   "cell_type": "markdown",
   "metadata": {},
   "source": [
    "Variables y tipo de datos"
   ]
  },
  {
   "cell_type": "code",
   "execution_count": 1,
   "metadata": {},
   "outputs": [],
   "source": [
    "nombre = \"Jorge\"\n",
    "ap_paterno = \"Juarez\"\n",
    "ap_materno = \"Cortes\"\n",
    "edad = 21 #Int\n",
    "altura = 1.70 #float\n",
    "es_estudiante = True #Bool"
   ]
  },
  {
   "cell_type": "code",
   "execution_count": 3,
   "metadata": {},
   "outputs": [
    {
     "name": "stdout",
     "output_type": "stream",
     "text": [
      "Mi nombre completo es: Jorge Juarez Cortes\n"
     ]
    }
   ],
   "source": [
    "print(f\"Mi nombre completo es: {nombre} {ap_paterno} {ap_materno}\")"
   ]
  }
 ],
 "metadata": {
  "kernelspec": {
   "display_name": "Python 3",
   "language": "python",
   "name": "python3"
  },
  "language_info": {
   "codemirror_mode": {
    "name": "ipython",
    "version": 3
   },
   "file_extension": ".py",
   "mimetype": "text/x-python",
   "name": "python",
   "nbconvert_exporter": "python",
   "pygments_lexer": "ipython3",
   "version": "3.13.0"
  }
 },
 "nbformat": 4,
 "nbformat_minor": 2
}
