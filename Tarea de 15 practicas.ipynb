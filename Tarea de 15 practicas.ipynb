{
 "cells": [
  {
   "cell_type": "code",
   "execution_count": 7,
   "metadata": {},
   "outputs": [
    {
     "name": "stdout",
     "output_type": "stream",
     "text": [
      "['Manzana', 'Banana', 'Cereza']\n"
     ]
    }
   ],
   "source": [
    "frutas = [\"manzana\", \"banana\", \"cereza\"] # \"ceresa\" \"corregido\" a \"cereza\"\n",
    "nueva_lista = [fruta.capitalize() for fruta in frutas] # Iteramos sobre cada elemento\n",
    "\n",
    "print(nueva_lista) # Imprime la nueva lista con los elementos capitalizados"
   ]
  },
  {
   "cell_type": "code",
   "execution_count": null,
   "metadata": {},
   "outputs": [
    {
     "name": "stdout",
     "output_type": "stream",
     "text": [
      "['Manzana', 'Banana', 'Cereza']\n"
     ]
    }
   ],
   "source": [
    "frutas = [\"manzana\", \"banana\", \"cereza\"]  # \"ceresa\" \"corregido\" a \"cereza\"\n",
    "\n",
    "# Usando list comprehension para capitalizar cada fruta en la lista\n",
    "nueva_lista = [fruta.capitalize() for fruta in frutas]\n",
    "\n",
    "print(nueva_lista)\n"
   ]
  },
  {
   "cell_type": "code",
   "execution_count": null,
   "metadata": {},
   "outputs": [
    {
     "name": "stdout",
     "output_type": "stream",
     "text": [
      "casefold: hola mundo\n"
     ]
    }
   ],
   "source": [
    "# 2. casefold: Versión en minúsculas ideal para comparaciones insensibles a mayúsculas.\n",
    "s = \"Hola Mundo\"  \n",
    "\n",
    "print(\"casefold:\", s.casefold())\n",
    "\n"
   ]
  },
  {
   "cell_type": "code",
   "execution_count": null,
   "metadata": {},
   "outputs": [
    {
     "name": "stdout",
     "output_type": "stream",
     "text": [
      "center: *****hola mundo*****\n"
     ]
    }
   ],
   "source": [
    "# 3. center: Centra la cadena en un ancho especificado, rellenando con un caracter.\n",
    "s = \"hola mundo\"\n",
    "print(\"center:\", s.center(20, \"*\"))\n"
   ]
  },
  {
   "cell_type": "code",
   "execution_count": null,
   "metadata": {},
   "outputs": [
    {
     "name": "stdout",
     "output_type": "stream",
     "text": [
      "count ('banana'): 2\n"
     ]
    }
   ],
   "source": [
    "# 4. count: Cuenta cuántas veces aparece una subcadena.\n",
    "text = \"banana is a fruit, banana is yellow\"\n",
    "print(\"count ('banana'):\", text.count(\"banana\"))"
   ]
  },
  {
   "cell_type": "code",
   "execution_count": null,
   "metadata": {},
   "outputs": [
    {
     "name": "stdout",
     "output_type": "stream",
     "text": [
      "[b'hola mundo', b'python es genial', b'esto es una prueba', b'12345']\n"
     ]
    }
   ],
   "source": [
    "# 5. encode: Convierte la cadena a bytes con la codificación dada.\n",
    "strings_to_encode = [\"hola mundo\", \"python es genial\", \"esto es una prueba\", \"12345\"]\n",
    "\n",
    "encoded_strings = [s.encode(\"ascii\", errors=\"ignore\") for s in strings_to_encode]\n",
    "print(encoded_strings)"
   ]
  },
  {
   "cell_type": "code",
   "execution_count": 14,
   "metadata": {},
   "outputs": [
    {
     "name": "stdout",
     "output_type": "stream",
     "text": [
      "endswith 'mundo': True\n",
      "endswith 'hola': False\n"
     ]
    }
   ],
   "source": [
    "# 6. endswith: Verifica si la cadena termina con una subcadena.\n",
    "\n",
    "print(\"endswith 'mundo':\", s.endswith(\"mundo\"))\n",
    "s = \"hola mundo\"\n",
    "print(\"endswith 'hola':\", s.endswith(\"hola\"))\n",
    "\n"
   ]
  },
  {
   "cell_type": "code",
   "execution_count": null,
   "metadata": {},
   "outputs": [
    {
     "name": "stdout",
     "output_type": "stream",
     "text": [
      "expandtabs (default): hola    mundo\n"
     ]
    }
   ],
   "source": [
    "# 7. expandtabs: Reemplaza los tabuladores por espacios.\n",
    "s_tabs = \"hola\\tmundo\"\n",
    "print(\"expandtabs (default):\", s_tabs.expandtabs())\n"
   ]
  },
  {
   "cell_type": "code",
   "execution_count": 16,
   "metadata": {},
   "outputs": [
    {
     "name": "stdout",
     "output_type": "stream",
     "text": [
      "find 'z': -1\n"
     ]
    }
   ],
   "source": [
    "# 8. find: Retorna el índice más bajo donde se encuentra la subcadena, o -1 si no existe.\n",
    "s = \"hola mundo\"\n",
    "print(\"find 'z':\", s.find(\"z\"))\n"
   ]
  },
  {
   "cell_type": "code",
   "execution_count": null,
   "metadata": {},
   "outputs": [
    {
     "name": "stdout",
     "output_type": "stream",
     "text": [
      "format (multiple): Mi nombre es Juan y tengo 30 años.\n"
     ]
    }
   ],
   "source": [
    "# 9. format: Formatea la cadena utilizando llaves {}.\n",
    "print(\"format (multiple):\", \"Mi nombre es {} y tengo {} años.\".format(\"Juan\", 30))\n"
   ]
  },
  {
   "cell_type": "code",
   "execution_count": 17,
   "metadata": {},
   "outputs": [
    {
     "name": "stdout",
     "output_type": "stream",
     "text": [
      "format_map (datatypes): Tengo 10 manzanas y mi fruta favorita es naranja.\n"
     ]
    }
   ],
   "source": [
    "# 10. format_map: Similar a format() pero toma un diccionario.\n",
    "data = {\"manzanas\": 10, \"fruta\": \"naranja\"}\n",
    "print(\"format_map (datatypes):\", \"Tengo {manzanas} manzanas y mi fruta favorita es {fruta}.\".format_map(data))"
   ]
  },
  {
   "cell_type": "code",
   "execution_count": 18,
   "metadata": {},
   "outputs": [
    {
     "name": "stdout",
     "output_type": "stream",
     "text": [
      "index 'z': Substring not found (ValueError)\n",
      "find 'z': -1\n"
     ]
    }
   ],
   "source": [
    "# 11. index: Igual que find, pero lanza un error si la subcadena no se encuentra.\n",
    "s = \"hola mundo\"\n",
    "try:\n",
    "    print(\"index 'z':\", s.index(\"z\"))\n",
    "except ValueError:\n",
    "    print(\"index 'z': Substring not found (ValueError)\")\n",
    "\n",
    "print(\"find 'z':\", s.find(\"z\"))"
   ]
  },
  {
   "cell_type": "code",
   "execution_count": 19,
   "metadata": {},
   "outputs": [
    {
     "name": "stdout",
     "output_type": "stream",
     "text": [
      "isalnum (with space): False\n"
     ]
    }
   ],
   "source": [
    "# 12. isalnum: True si todos los caracteres son alfanuméricos (se eliminan espacios para esta comprobación).\n",
    "\n",
    "s = \"hola mundo\"\n",
    "print(\"isalnum (with space):\", s.isalnum())\n"
   ]
  },
  {
   "cell_type": "code",
   "execution_count": 20,
   "metadata": {},
   "outputs": [
    {
     "name": "stdout",
     "output_type": "stream",
     "text": [
      "isalpha (with space): False\n"
     ]
    }
   ],
   "source": [
    "# 13. isalpha: True si todos los caracteres son letras (descontando espacios).\n",
    "s = \"hola mundo\"\n",
    "print(\"isalpha (with space):\", s.isalpha())"
   ]
  },
  {
   "cell_type": "code",
   "execution_count": 21,
   "metadata": {},
   "outputs": [
    {
     "name": "stdout",
     "output_type": "stream",
     "text": [
      "isascii (ASCII only): True\n"
     ]
    }
   ],
   "source": [
    "# 14. isascii: True si todos los caracteres pertenecen al conjunto ASCII.\n",
    "\n",
    "s = \"Hello World 123!\"\n",
    "print(\"isascii (ASCII only):\", s.isascii())\n",
    "\n"
   ]
  },
  {
   "cell_type": "code",
   "execution_count": 22,
   "metadata": {},
   "outputs": [
    {
     "name": "stdout",
     "output_type": "stream",
     "text": [
      "isdecimal ('abc'): False\n"
     ]
    }
   ],
   "source": [
    "# 15. isdecimal: True si la cadena consiste sólo en dígitos decimales.\n",
    "print(\"isdecimal ('abc'):\", \"abc\".isdecimal())\n",
    "\n"
   ]
  }
 ],
 "metadata": {
  "kernelspec": {
   "display_name": "Python 3",
   "language": "python",
   "name": "python3"
  },
  "language_info": {
   "codemirror_mode": {
    "name": "ipython",
    "version": 3
   },
   "file_extension": ".py",
   "mimetype": "text/x-python",
   "name": "python",
   "nbconvert_exporter": "python",
   "pygments_lexer": "ipython3",
   "version": "3.13.0"
  }
 },
 "nbformat": 4,
 "nbformat_minor": 2
}
